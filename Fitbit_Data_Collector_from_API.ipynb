{
 "cells": [
  {
   "cell_type": "markdown",
   "metadata": {},
   "source": [
    "## Get Data"
   ]
  },
  {
   "cell_type": "code",
   "execution_count": 49,
   "metadata": {},
   "outputs": [],
   "source": [
    "%matplotlib inline\n",
    "import matplotlib.pyplot as plt\n",
    "import fitbit\n",
    "\n",
    "import gather_keys_oauth2 as Oauth2\n",
    "import pandas as pd \n",
    "from datetime import datetime as d\n",
    "\n",
    "\n",
    "CLIENT_ID='23RPGF'\n",
    "CLIENT_SECRET='03d2a21d88b09241a0d06db073bca7c1'"
   ]
  },
  {
   "cell_type": "markdown",
   "metadata": {},
   "source": [
    "## API Authorization"
   ]
  },
  {
   "cell_type": "code",
   "execution_count": 50,
   "metadata": {
    "scrolled": true
   },
   "outputs": [
    {
     "name": "stderr",
     "output_type": "stream",
     "text": [
      "[05/Jan/2024:12:17:21] ENGINE Listening for SIGTERM.\n",
      "[05/Jan/2024:12:17:21] ENGINE Bus STARTING\n",
      "[05/Jan/2024:12:17:21] ENGINE Set handler for console events.\n",
      "CherryPy Checker:\n",
      "The Application mounted at '' has an empty config.\n",
      "\n",
      "[05/Jan/2024:12:17:21] ENGINE Started monitor thread 'Autoreloader'.\n",
      "[05/Jan/2024:12:17:22] ENGINE Serving on http://127.0.0.1:8080\n",
      "[05/Jan/2024:12:17:22] ENGINE Bus STARTED\n"
     ]
    },
    {
     "name": "stdout",
     "output_type": "stream",
     "text": [
      "127.0.0.1 - - [05/Jan/2024:12:17:23] \"GET /?code=41ee6a07db3a3eb3eaf1c262b77b7936f3a0bc19&state=sGOjdVGAydvhAwgiaj9wGkfYCWULMH HTTP/1.1\" 200 122 \"\" \"Mozilla/5.0 (Windows NT 10.0; Win64; x64) AppleWebKit/537.36 (KHTML, like Gecko) Chrome/120.0.0.0 Safari/537.36\"\n"
     ]
    },
    {
     "name": "stderr",
     "output_type": "stream",
     "text": [
      "[05/Jan/2024:12:17:24] ENGINE Bus STOPPING\n",
      "[05/Jan/2024:12:17:24] ENGINE HTTP Server cherrypy._cpwsgi_server.CPWSGIServer(('127.0.0.1', 8080)) shut down\n",
      "[05/Jan/2024:12:17:24] ENGINE Removed handler for console events.\n",
      "[05/Jan/2024:12:17:24] ENGINE Stopped thread 'Autoreloader'.\n",
      "[05/Jan/2024:12:17:24] ENGINE Bus STOPPED\n",
      "[05/Jan/2024:12:17:24] ENGINE Bus EXITING\n",
      "[05/Jan/2024:12:17:24] ENGINE Waiting for child threads to terminate...\n",
      "[05/Jan/2024:12:17:24] ENGINE Bus EXITED\n",
      "[05/Jan/2024:12:17:24] ENGINE Waiting for thread Thread-46.\n"
     ]
    }
   ],
   "source": [
    "server=Oauth2.OAuth2Server(CLIENT_ID, CLIENT_SECRET)\n",
    "server.browser_authorize()\n",
    "ACCESS_TOKEN=str(server.fitbit.client.session.token['access_token'])\n",
    "REFRESH_TOKEN=str(server.fitbit.client.session.token['refresh_token'])\n",
    "auth2_client=fitbit.Fitbit(CLIENT_ID,CLIENT_SECRET,oauth2=True,access_token=ACCESS_TOKEN,refresh_token=REFRESH_TOKEN)"
   ]
  },
  {
   "cell_type": "markdown",
   "metadata": {},
   "source": [
    "## 5a.) Get One day of Data"
   ]
  },
  {
   "cell_type": "code",
   "execution_count": 51,
   "metadata": {},
   "outputs": [],
   "source": [
    "oneDate = d(2023, 12, 18)"
   ]
  },
  {
   "cell_type": "code",
   "execution_count": 52,
   "metadata": {},
   "outputs": [
    {
     "name": "stdout",
     "output_type": "stream",
     "text": [
      "Help on method intraday_time_series in module fitbit.api:\n",
      "\n",
      "intraday_time_series(resource, base_date='today', detail_level='1min', start_time=None, end_time=None) method of fitbit.api.Fitbit instance\n",
      "    The intraday time series extends the functionality of the regular time series, but returning data at a\n",
      "    more granular level for a single day, defaulting to 1 minute intervals. To access this feature, one must\n",
      "    fill out the Private Support form here (see https://dev.fitbit.com/docs/help/).\n",
      "    For details on the resources available and more information on how to get access, see:\n",
      "    \n",
      "    https://dev.fitbit.com/docs/activity/#get-activity-intraday-time-series\n",
      "\n"
     ]
    }
   ],
   "source": [
    "help(auth2_client.intraday_time_series)"
   ]
  },
  {
   "cell_type": "code",
   "execution_count": 53,
   "metadata": {},
   "outputs": [],
   "source": [
    "oneDayData = auth2_client.intraday_time_series('activities/heart',\n",
    "                                               base_date=oneDate,\n",
    "                                               detail_level='1sec')"
   ]
  },
  {
   "cell_type": "code",
   "execution_count": 54,
   "metadata": {},
   "outputs": [],
   "source": [
    "df = pd.DataFrame(oneDayData['activities-heart-intraday']['dataset'])"
   ]
  },
  {
   "cell_type": "code",
   "execution_count": 55,
   "metadata": {},
   "outputs": [
    {
     "data": {
      "text/html": [
       "<div>\n",
       "<style scoped>\n",
       "    .dataframe tbody tr th:only-of-type {\n",
       "        vertical-align: middle;\n",
       "    }\n",
       "\n",
       "    .dataframe tbody tr th {\n",
       "        vertical-align: top;\n",
       "    }\n",
       "\n",
       "    .dataframe thead th {\n",
       "        text-align: right;\n",
       "    }\n",
       "</style>\n",
       "<table border=\"1\" class=\"dataframe\">\n",
       "  <thead>\n",
       "    <tr style=\"text-align: right;\">\n",
       "      <th></th>\n",
       "      <th>time</th>\n",
       "      <th>value</th>\n",
       "    </tr>\n",
       "  </thead>\n",
       "  <tbody>\n",
       "    <tr>\n",
       "      <th>0</th>\n",
       "      <td>13:08:38</td>\n",
       "      <td>70</td>\n",
       "    </tr>\n",
       "    <tr>\n",
       "      <th>1</th>\n",
       "      <td>13:08:53</td>\n",
       "      <td>70</td>\n",
       "    </tr>\n",
       "    <tr>\n",
       "      <th>2</th>\n",
       "      <td>13:09:03</td>\n",
       "      <td>70</td>\n",
       "    </tr>\n",
       "    <tr>\n",
       "      <th>3</th>\n",
       "      <td>13:09:13</td>\n",
       "      <td>73</td>\n",
       "    </tr>\n",
       "    <tr>\n",
       "      <th>4</th>\n",
       "      <td>13:09:18</td>\n",
       "      <td>74</td>\n",
       "    </tr>\n",
       "  </tbody>\n",
       "</table>\n",
       "</div>"
      ],
      "text/plain": [
       "       time  value\n",
       "0  13:08:38     70\n",
       "1  13:08:53     70\n",
       "2  13:09:03     70\n",
       "3  13:09:13     73\n",
       "4  13:09:18     74"
      ]
     },
     "execution_count": 55,
     "metadata": {},
     "output_type": "execute_result"
    }
   ],
   "source": [
    "df.head()"
   ]
  },
  {
   "cell_type": "code",
   "execution_count": 56,
   "metadata": {},
   "outputs": [
    {
     "name": "stderr",
     "output_type": "stream",
     "text": [
      "C:\\Users\\davi-\\AppData\\Local\\Temp\\ipykernel_10620\\1680930436.py:1: UserWarning: Could not infer format, so each element will be parsed individually, falling back to `dateutil`. To ensure parsing is consistent and as-expected, please specify a format.\n",
      "  df['time'] = pd.to_datetime(df['time'])\n"
     ]
    }
   ],
   "source": [
    "df['time'] = pd.to_datetime(df['time'])\n",
    "\n",
    "df.set_index('time', inplace=True)\n",
    "\n",
    "df_resampled = df.resample('S').ffill()\n",
    "\n",
    "df_resampled.reset_index(inplace=True)"
   ]
  },
  {
   "cell_type": "code",
   "execution_count": 57,
   "metadata": {},
   "outputs": [],
   "source": [
    "df_resampled['time'] = df_resampled['time'].dt.time"
   ]
  },
  {
   "cell_type": "code",
   "execution_count": 58,
   "metadata": {},
   "outputs": [],
   "source": [
    "file_path = 'full_dataset/heart_rate.csv'\n",
    "\n",
    "df_resampled.to_csv(file_path, index=False)"
   ]
  },
  {
   "cell_type": "code",
   "execution_count": 64,
   "metadata": {},
   "outputs": [
    {
     "data": {
      "text/html": [
       "<div>\n",
       "<style scoped>\n",
       "    .dataframe tbody tr th:only-of-type {\n",
       "        vertical-align: middle;\n",
       "    }\n",
       "\n",
       "    .dataframe tbody tr th {\n",
       "        vertical-align: top;\n",
       "    }\n",
       "\n",
       "    .dataframe thead th {\n",
       "        text-align: right;\n",
       "    }\n",
       "</style>\n",
       "<table border=\"1\" class=\"dataframe\">\n",
       "  <thead>\n",
       "    <tr style=\"text-align: right;\">\n",
       "      <th></th>\n",
       "      <th>time</th>\n",
       "      <th>person</th>\n",
       "      <th>song</th>\n",
       "    </tr>\n",
       "  </thead>\n",
       "  <tbody>\n",
       "    <tr>\n",
       "      <th>0</th>\n",
       "      <td>2024-01-05 13:49:00</td>\n",
       "      <td>Martin</td>\n",
       "      <td>Die Young Kesha</td>\n",
       "    </tr>\n",
       "    <tr>\n",
       "      <th>1</th>\n",
       "      <td>2024-01-05 13:49:01</td>\n",
       "      <td>Martin</td>\n",
       "      <td>Die Young Kesha</td>\n",
       "    </tr>\n",
       "    <tr>\n",
       "      <th>2</th>\n",
       "      <td>2024-01-05 13:49:02</td>\n",
       "      <td>Martin</td>\n",
       "      <td>Die Young Kesha</td>\n",
       "    </tr>\n",
       "    <tr>\n",
       "      <th>3</th>\n",
       "      <td>2024-01-05 13:49:03</td>\n",
       "      <td>Martin</td>\n",
       "      <td>Die Young Kesha</td>\n",
       "    </tr>\n",
       "    <tr>\n",
       "      <th>4</th>\n",
       "      <td>2024-01-05 13:49:04</td>\n",
       "      <td>Martin</td>\n",
       "      <td>Die Young Kesha</td>\n",
       "    </tr>\n",
       "  </tbody>\n",
       "</table>\n",
       "</div>"
      ],
      "text/plain": [
       "                 time  person             song\n",
       "0 2024-01-05 13:49:00  Martin  Die Young Kesha\n",
       "1 2024-01-05 13:49:01  Martin  Die Young Kesha\n",
       "2 2024-01-05 13:49:02  Martin  Die Young Kesha\n",
       "3 2024-01-05 13:49:03  Martin  Die Young Kesha\n",
       "4 2024-01-05 13:49:04  Martin  Die Young Kesha"
      ]
     },
     "execution_count": 64,
     "metadata": {},
     "output_type": "execute_result"
    }
   ],
   "source": [
    "song_lengths = {\n",
    "    \"Die Young Kesha\": \"3:32\",\n",
    "    \"Chopin Opus 9 No 2\": \"4:29\",\n",
    "    \"Bangerang Skrillex\": \"3:38\",\n",
    "    \"Slipknot psychosocial\": \"5:02\"\n",
    "}\n",
    "\n",
    "for song, length in song_lengths.items():\n",
    "    mins, secs = map(int, length.split(':'))\n",
    "    song_lengths[song] = pd.Timedelta(minutes=mins, seconds=secs)\n",
    "\n",
    "\n",
    "start_times = {\n",
    "    \"Martin\": [\"13:49:00\", \"13:58:00\", \"14:03:00\", \"14:08:00\"],\n",
    "    \"Daniel\": [\"14:17:00\", \"14:21:00\", \"14:26:00\", \"14:31:00\"],\n",
    "    \"Timm\": [\"14:39:00\", \"14:43:00\", \"14:49:05\", \"14:54:00\"],\n",
    "    \"Steffen\": [\"15:01:00\", \"15:05:00\", \"15:10:00\", \"15:14:00\"]\n",
    "}\n",
    "\n",
    "\n",
    "for person, times in start_times.items():\n",
    "    start_times[person] = [pd.to_datetime(t) for t in times]\n",
    "\n",
    "\n",
    "dfs = {}\n",
    "\n",
    "for person, times in start_times.items():\n",
    "    for i, start in enumerate(times):\n",
    "        song_name = list(song_lengths.keys())[i]\n",
    "        end = start + song_lengths[song_name]\n",
    "        time_range = pd.date_range(start=start, end=end, freq='S')\n",
    "        df = pd.DataFrame(time_range, columns=['time'])\n",
    "        df['person'] = person\n",
    "        df['song'] = song_name\n",
    "        df_name = f\"{person}_{song_name.replace(' ', '_')}\"\n",
    "        dfs[df_name] = df\n",
    "\n",
    "        \n",
    "dfs[list(dfs.keys())[0]].head()"
   ]
  },
  {
   "cell_type": "code",
   "execution_count": 72,
   "metadata": {},
   "outputs": [
    {
     "name": "stderr",
     "output_type": "stream",
     "text": [
      "C:\\Users\\davi-\\AppData\\Local\\Temp\\ipykernel_10620\\2492505782.py:6: UserWarning: Could not infer format, so each element will be parsed individually, falling back to `dateutil`. To ensure parsing is consistent and as-expected, please specify a format.\n",
      "  heart_rate_df['time'] = pd.to_datetime(heart_rate_df['time'])\n"
     ]
    }
   ],
   "source": [
    "import os\n",
    "\n",
    "# Load the heart rate data\n",
    "heart_rate_df = pd.read_csv('full_dataset/heart_rate.csv')\n",
    "\n",
    "heart_rate_df['time'] = pd.to_datetime(heart_rate_df['time'])\n",
    "\n",
    "heart_rate_df.set_index('time', inplace=True)\n",
    "\n",
    "\n",
    "df_resampled = heart_rate_df.resample('S').ffill()\n",
    "\n",
    "\n",
    "df_resampled.reset_index(inplace=True)"
   ]
  },
  {
   "cell_type": "code",
   "execution_count": 73,
   "metadata": {},
   "outputs": [],
   "source": [
    "song_lengths = {\n",
    "    \"Die Young Kesha\": \"3:32\",\n",
    "    \"Chopin Opus 9 No 2\": \"4:29\",\n",
    "    \"Bangerang Skrillex\": \"3:38\",\n",
    "    \"Slipknot psychosocial\": \"5:02\"\n",
    "}\n",
    "\n",
    "start_times = {\n",
    "    \"Martin\": [\"13:49:00\", \"13:58:00\", \"14:03:00\", \"14:08:00\"],\n",
    "    \"Daniel\": [\"14:17:00\", \"14:21:00\", \"14:26:00\", \"14:31:00\"],\n",
    "    \"Timm\": [\"14:39:00\", \"14:43:00\", \"14:49:05\", \"14:54:00\"],\n",
    "    \"Steffen\": [\"15:01:00\", \"15:05:00\", \"15:10:00\", \"15:14:00\"]\n",
    "}"
   ]
  },
  {
   "cell_type": "code",
   "execution_count": 74,
   "metadata": {},
   "outputs": [],
   "source": [
    "for song, length in song_lengths.items():\n",
    "    mins, secs = map(int, length.split(':'))\n",
    "    song_lengths[song] = pd.Timedelta(minutes=mins, seconds=secs)\n",
    "\n",
    "for person, times in start_times.items():\n",
    "    start_times[person] = [pd.to_datetime(t) for t in times]\n",
    "\n",
    "base_path = 'data/'\n",
    "\n",
    "for person, times in start_times.items():\n",
    "    person_dir = os.path.join(base_path, person)\n",
    "    os.makedirs(person_dir, exist_ok=True)\n",
    "    \n",
    "    for i, start in enumerate(times):\n",
    "        song_name = list(song_lengths.keys())[i]\n",
    "        end = start + song_lengths[song_name]\n",
    "        # Extract the segment from the resampled heart rate data\n",
    "        mask = (df_resampled['time'] >= start) & (df_resampled['time'] <= end)\n",
    "        song_df = df_resampled.loc[mask]\n",
    "        # Save the segment to a CSV file\n",
    "        csv_path = os.path.join(person_dir, f\"{song_name.replace(' ', '_')}.csv\")\n",
    "        song_df.to_csv(csv_path, index=False, columns=['time', 'value'])\n"
   ]
  }
 ],
 "metadata": {
  "kernelspec": {
   "display_name": "Python 3 (ipykernel)",
   "language": "python",
   "name": "python3"
  },
  "language_info": {
   "codemirror_mode": {
    "name": "ipython",
    "version": 3
   },
   "file_extension": ".py",
   "mimetype": "text/x-python",
   "name": "python",
   "nbconvert_exporter": "python",
   "pygments_lexer": "ipython3",
   "version": "3.11.0"
  }
 },
 "nbformat": 4,
 "nbformat_minor": 2
}
